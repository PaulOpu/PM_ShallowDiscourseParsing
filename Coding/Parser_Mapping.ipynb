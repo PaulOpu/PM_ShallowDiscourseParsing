{
 "cells": [
  {
   "cell_type": "markdown",
   "metadata": {},
   "source": [
    "# Parser Gold Mapping"
   ]
  },
  {
   "cell_type": "code",
   "execution_count": 150,
   "metadata": {},
   "outputs": [],
   "source": [
    "import json\n",
    "import numpy as np\n",
    "import conll16st.aligner as aligner\n",
    "import conll16st.partial_scorer as ps\n",
    "import read_write_files as rw"
   ]
  },
  {
   "cell_type": "code",
   "execution_count": 181,
   "metadata": {},
   "outputs": [],
   "source": [
    "gold_path = \"data/gold_standard/blind/gold.json\"\n",
    "gold_list = rw.read_json(gold_path)"
   ]
  },
  {
   "cell_type": "code",
   "execution_count": 182,
   "metadata": {},
   "outputs": [],
   "source": [
    "predicted_lists = []"
   ]
  },
  {
   "cell_type": "code",
   "execution_count": 183,
   "metadata": {},
   "outputs": [],
   "source": [
    "parse_path = \"data/submissions/randomized/oslopots.json\"\n",
    "predicted_list = rw.read_json(parse_path)\n",
    "predicted_lists += [(\"oslopots\",predicted_list)]"
   ]
  },
  {
   "cell_type": "code",
   "execution_count": 184,
   "metadata": {},
   "outputs": [],
   "source": [
    "parse_path = \"data/submissions/randomized/nguyenlab.json\"\n",
    "predicted_list = rw.read_json(parse_path)\n",
    "predicted_lists += [(\"nguyenlab\",predicted_list)]"
   ]
  },
  {
   "cell_type": "code",
   "execution_count": 185,
   "metadata": {},
   "outputs": [],
   "source": [
    "parse_path = \"data/submissions/randomized/steven.json\"\n",
    "predicted_list = rw.read_json(parse_path)\n",
    "predicted_lists += [(\"steven\",predicted_list)]\n"
   ]
  },
  {
   "cell_type": "code",
   "execution_count": 186,
   "metadata": {},
   "outputs": [],
   "source": [
    "def change_sets_to_list(alignments):\n",
    "    for gold,pred in alignments:\n",
    "        if gold != None:\n",
    "            gold[\"Arg1\"][\"TokenIndexSet\"] = list(gold[\"Arg1\"][\"TokenIndexSet\"])\n",
    "            gold[\"Arg2\"][\"TokenIndexSet\"] = list(gold[\"Arg2\"][\"TokenIndexSet\"])\n",
    "        if pred != None:\n",
    "            pred[\"Arg1\"][\"TokenIndexSet\"] = list(pred[\"Arg1\"][\"TokenIndexSet\"])\n",
    "            pred[\"Arg2\"][\"TokenIndexSet\"] = list(pred[\"Arg2\"][\"TokenIndexSet\"])\n",
    "        \n",
    "    return alignments"
   ]
  },
  {
   "cell_type": "code",
   "execution_count": 189,
   "metadata": {},
   "outputs": [],
   "source": [
    "def align_parsers_to_gold(gold_rel,parsers):\n",
    "    total_alignment = {gold[\"ID\"]:{\"gold\":gold,\"parsers\":[]} for gold in gold_rel}\n",
    "    parsers_not_mappable = []\n",
    "    \n",
    "    parser_names = [name for name,parser in parsers]\n",
    "    \n",
    "    for name,parser_relations in parsers:\n",
    "        arg1_alignment, arg2_alignment, relation_alignment = aligner.align_relations(\n",
    "            gold_rel, \n",
    "            parser_relations, \n",
    "            0.7)\n",
    "         \n",
    "        relation_alignment = change_sets_to_list(relation_alignment)\n",
    "        for gold_align,pred_align in relation_alignment:\n",
    "            if gold_align == None:\n",
    "                parsers_not_mappable += [pred_align]\n",
    "            else:\n",
    "                total_alignment[gold_align[\"ID\"]][\"parsers\"] += [pred_align]\n",
    "                total_alignment[gold_align[\"ID\"]][\"parser_names\"] = parser_names\n",
    "     \n",
    "    return total_alignment,parsers_not_mappable\n",
    "        "
   ]
  },
  {
   "cell_type": "code",
   "execution_count": 190,
   "metadata": {},
   "outputs": [],
   "source": [
    "total_alignment,not_mappables = align_parsers_to_gold(\n",
    "    gold_rel=gold_list,\n",
    "    parsers=predicted_lists)"
   ]
  },
  {
   "cell_type": "code",
   "execution_count": 191,
   "metadata": {},
   "outputs": [],
   "source": [
    "save_json(total_alignment.values(),\"data/project_files/total_alignment.json\")\n",
    "save_json(not_mappables,\"data/project_files/not_mappable.json\")"
   ]
  },
  {
   "cell_type": "code",
   "execution_count": null,
   "metadata": {},
   "outputs": [],
   "source": []
  }
 ],
 "metadata": {
  "kernelspec": {
   "display_name": "Python 2",
   "language": "python",
   "name": "python2"
  },
  "language_info": {
   "codemirror_mode": {
    "name": "ipython",
    "version": 2
   },
   "file_extension": ".py",
   "mimetype": "text/x-python",
   "name": "python",
   "nbconvert_exporter": "python",
   "pygments_lexer": "ipython2",
   "version": "2.7.14"
  }
 },
 "nbformat": 4,
 "nbformat_minor": 2
}
