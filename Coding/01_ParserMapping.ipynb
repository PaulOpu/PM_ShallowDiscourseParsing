{
 "cells": [
  {
   "cell_type": "markdown",
   "metadata": {},
   "source": [
    "# Parser Gold Mapping\n",
    "\n",
    "This notebook tries to map the gold standard relations to the corresponding parser predictions. Therefore, we can compare later the different predictions for the same relation."
   ]
  },
  {
   "cell_type": "code",
   "execution_count": 20,
   "metadata": {},
   "outputs": [],
   "source": [
    "import json\n",
    "import numpy as np\n",
    "import conll16st.aligner as aligner\n",
    "import conll16st.partial_scorer as ps\n",
    "import read_write_files as rw"
   ]
  },
  {
   "cell_type": "code",
   "execution_count": 21,
   "metadata": {},
   "outputs": [],
   "source": [
    "def change_sets_to_list(alignments):\n",
    "    # This function just changes the TokenIndexSets to lists, \n",
    "    # because otherwise some algorithms can't work with them.\n",
    "    for gold,pred in alignments:\n",
    "        if gold != None:\n",
    "            gold[\"Arg1\"][\"TokenIndexSet\"] = list(gold[\"Arg1\"][\"TokenIndexSet\"])\n",
    "            gold[\"Arg2\"][\"TokenIndexSet\"] = list(gold[\"Arg2\"][\"TokenIndexSet\"])\n",
    "        if pred != None:\n",
    "            pred[\"Arg1\"][\"TokenIndexSet\"] = list(pred[\"Arg1\"][\"TokenIndexSet\"])\n",
    "            pred[\"Arg2\"][\"TokenIndexSet\"] = list(pred[\"Arg2\"][\"TokenIndexSet\"])\n",
    "        \n",
    "    return alignments"
   ]
  },
  {
   "cell_type": "code",
   "execution_count": 22,
   "metadata": {},
   "outputs": [],
   "source": [
    "def align_parsers_to_gold(gold_rel,parsers):\n",
    "    # This function aligns the predicted relations to the gold relations\n",
    "    # It uses the aligner functions from the conll2016 validator\n",
    "    \n",
    "    #param gold_rel     gold standard relations\n",
    "    #param parsers      list of predicted relations for each parser\n",
    "    \n",
    "    #return alignment of gold standard and all predictions and a file which contains all unmappable relations\n",
    "    # (if a relation is not predicted by a parser there will be a placeholder for it)\n",
    "    total_alignment = {gold[\"ID\"]:{\"gold\":gold,\"parsers\":[]} for gold in gold_rel}\n",
    "    parsers_not_mappable = []\n",
    "    \n",
    "    parser_names = [name for name,parser in parsers]\n",
    "    \n",
    "    for name,parser_relations in parsers:\n",
    "        arg1_alignment, arg2_alignment, relation_alignment = aligner.align_relations(\n",
    "            gold_rel, \n",
    "            parser_relations, \n",
    "            0.7)\n",
    "         \n",
    "        relation_alignment = change_sets_to_list(relation_alignment)\n",
    "        for gold_align,pred_align in relation_alignment:\n",
    "            if gold_align == None:\n",
    "                parsers_not_mappable += [pred_align]\n",
    "            else:\n",
    "                total_alignment[gold_align[\"ID\"]][\"parsers\"] += [pred_align]\n",
    "                total_alignment[gold_align[\"ID\"]][\"parser_names\"] = parser_names\n",
    "     \n",
    "    return total_alignment,parsers_not_mappable\n",
    "        "
   ]
  },
  {
   "cell_type": "markdown",
   "metadata": {},
   "source": [
    "# Training Set Mapping\n",
    "\n",
    "We take the gold and predictions and align the relations. Afterwards, we save the total alignments to a json file."
   ]
  },
  {
   "cell_type": "code",
   "execution_count": 27,
   "metadata": {},
   "outputs": [],
   "source": [
    "gold_path = \"data/gold_standard/test/gold.json\"\n",
    "gold_list = rw.read_json(gold_path)"
   ]
  },
  {
   "cell_type": "code",
   "execution_count": 31,
   "metadata": {},
   "outputs": [],
   "source": [
    "path = \"data/submissions/randomized/test/\"\n",
    "parser_files = rw.get_files_in_directory(path)\n",
    "parsers = [(filee.split(\".\")[0],path+filee) for filee in parser_files]"
   ]
  },
  {
   "cell_type": "code",
   "execution_count": 29,
   "metadata": {},
   "outputs": [],
   "source": [
    "predicted_lists = []\n",
    "\n",
    "for name,path in parsers:\n",
    "    predicted_list = rw.read_json(path)\n",
    "    predicted_lists += [(name,predicted_list)]"
   ]
  },
  {
   "cell_type": "code",
   "execution_count": 7,
   "metadata": {},
   "outputs": [],
   "source": [
    "total_alignment,not_mappables = align_parsers_to_gold(\n",
    "    gold_rel=gold_list,\n",
    "    parsers=predicted_lists)"
   ]
  },
  {
   "cell_type": "code",
   "execution_count": 8,
   "metadata": {},
   "outputs": [],
   "source": [
    "rw.save_json(total_alignment.values(),\"data/project_files/test/total_alignment.json\")\n",
    "rw.save_json(not_mappables,\"data/project_files/test/not_mappable.json\")"
   ]
  },
  {
   "cell_type": "markdown",
   "metadata": {},
   "source": [
    "### Mapping for the three best parsers\n",
    "\n",
    "We wanted to give some statistical information to the three best parsers. Therefore, we created a additional alignment only between these three (oslopots, steven and ecnucs).\n",
    "\n",
    "----------------------------------\n",
    "\n",
    "Stephan Oepen, Jonathon Read, Tatjana Scheffler,\n",
    "Uladzimir Sidarenka, Manfred Stede, Eric\n",
    "Velldal, and Lilja Ovrelid. 2016. Opt: Oslo–\n",
    "potsdam–teesside. pipelining rules, rankers, and\n",
    "classifier ensembles for shallow discourse parsing.\n",
    "In Proceedings of the Twentieth Conference\n",
    "on Computational Natural Language Learning:\n",
    "Shared Task, Berlin, Germany, August. Association\n",
    "for Computational Linguistics.\n",
    "\n",
    "Evgeny Stepanov and Giuseppe Riccardi. 2016.\n",
    "Unitn end-to-end discourse parser for conll 2016\n",
    "shared task. In Proceedings of the Twentieth\n",
    "Conference on Computational Natural Language\n",
    "Learning: Shared Task, Berlin, Germany, August.\n",
    "Association for Computational Linguistics.\n",
    "\n",
    "Jianxiang Wang and Man Lan. 2016. Two endto-end\n",
    "shallow discourse parsers for english and\n",
    "chinese in conll-2016 shared task. In Proceedings\n",
    "of the Twentieth Conference on Computational\n",
    "Natural Language Learning: Shared Task,\n",
    "Berlin, Germany, August. Association for Computational\n",
    "Linguistics."
   ]
  },
  {
   "cell_type": "code",
   "execution_count": 32,
   "metadata": {},
   "outputs": [
    {
     "name": "stdout",
     "output_type": "stream",
     "text": [
      "[('steven', 'data/submissions/randomized/test/steven.json'), ('oslopots', 'data/submissions/randomized/test/oslopots.json'), ('ecnucs', 'data/submissions/randomized/test/ecnucs.json')]\n"
     ]
    }
   ],
   "source": [
    "best_parser_files = [\"oslopots.json\",\"steven.json\",\"ecnucs.json\"]\n",
    "parser_files = [p_file for p_file in rw.get_files_in_directory(path) if p_file in best_parser_files]\n",
    "best_parsers = [(filee.split(\".\")[0],path+filee) for filee in parser_files]\n",
    "print(best_parsers)\n",
    "predicted_lists = []\n",
    "\n",
    "for name,path in best_parsers:\n",
    "    predicted_list = rw.read_json(path)\n",
    "    predicted_lists += [(name,predicted_list)]\n",
    "    \n",
    "total_alignment,not_mappables = align_parsers_to_gold(\n",
    "    gold_rel=gold_list,\n",
    "    parsers=predicted_lists)\n",
    "\n",
    "rw.save_json(total_alignment.values(),\"data/project_files/test/3best_alignment.json\")\n",
    "rw.save_json(not_mappables,\"data/project_files/test/3best_not_mappable.json\")"
   ]
  },
  {
   "cell_type": "markdown",
   "metadata": {},
   "source": [
    "# Test Set Mapping\n",
    "\n",
    "Same procedure for the test sets."
   ]
  },
  {
   "cell_type": "code",
   "execution_count": 9,
   "metadata": {},
   "outputs": [],
   "source": [
    "gold_path = \"data/gold_standard/blind/gold.json\"\n",
    "gold_list = rw.read_json(gold_path)"
   ]
  },
  {
   "cell_type": "code",
   "execution_count": 10,
   "metadata": {},
   "outputs": [],
   "source": [
    "path = \"data/submissions/randomized/blind/\"\n",
    "parser_files = rw.get_files_in_directory(path)\n",
    "parsers = [(filee.split(\".\")[0],path+filee) for filee in parser_files]"
   ]
  },
  {
   "cell_type": "code",
   "execution_count": 12,
   "metadata": {},
   "outputs": [],
   "source": [
    "predicted_lists = []\n",
    "\n",
    "for name,path in parsers:\n",
    "    predicted_list = rw.read_json(path)\n",
    "    predicted_lists += [(name,predicted_list)]"
   ]
  },
  {
   "cell_type": "code",
   "execution_count": 13,
   "metadata": {},
   "outputs": [],
   "source": [
    "total_alignment,not_mappables = align_parsers_to_gold(\n",
    "    gold_rel=gold_list,\n",
    "    parsers=predicted_lists)"
   ]
  },
  {
   "cell_type": "code",
   "execution_count": 15,
   "metadata": {},
   "outputs": [],
   "source": [
    "rw.save_json(total_alignment.values(),\"data/project_files/blind/total_alignment.json\")\n",
    "rw.save_json(not_mappables,\"data/project_files/blind/not_mappable.json\")"
   ]
  },
  {
   "cell_type": "code",
   "execution_count": null,
   "metadata": {},
   "outputs": [],
   "source": []
  }
 ],
 "metadata": {
  "kernelspec": {
   "display_name": "Python 2",
   "language": "python",
   "name": "python2"
  },
  "language_info": {
   "codemirror_mode": {
    "name": "ipython",
    "version": 2
   },
   "file_extension": ".py",
   "mimetype": "text/x-python",
   "name": "python",
   "nbconvert_exporter": "python",
   "pygments_lexer": "ipython2",
   "version": "2.7.14"
  }
 },
 "nbformat": 4,
 "nbformat_minor": 2
}
