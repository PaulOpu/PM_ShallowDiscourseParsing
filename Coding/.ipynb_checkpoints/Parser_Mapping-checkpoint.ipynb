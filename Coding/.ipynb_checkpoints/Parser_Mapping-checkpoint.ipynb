{
 "cells": [
  {
   "cell_type": "markdown",
   "metadata": {},
   "source": [
    "# Parser Gold Mapping"
   ]
  },
  {
   "cell_type": "code",
   "execution_count": 16,
   "metadata": {},
   "outputs": [],
   "source": [
    "import json\n",
    "import numpy as np\n",
    "import conll16st.aligner as aligner\n",
    "import conll16st.partial_scorer as ps"
   ]
  },
  {
   "cell_type": "code",
   "execution_count": 8,
   "metadata": {},
   "outputs": [],
   "source": [
    "def read_parser_rel(file_path):\n",
    "    return [json.loads(x) for x in open(file_path)]"
   ]
  },
  {
   "cell_type": "code",
   "execution_count": 45,
   "metadata": {},
   "outputs": [],
   "source": [
    "gold_path = \"data/gold_standard//gold.json\"\n",
    "gold_list = read_parser_rel(gold_path)"
   ]
  },
  {
   "cell_type": "code",
   "execution_count": 46,
   "metadata": {},
   "outputs": [],
   "source": [
    "predicted_lists = []"
   ]
  },
  {
   "cell_type": "code",
   "execution_count": 47,
   "metadata": {},
   "outputs": [],
   "source": [
    "parse_path = \"data/submissions/randomized/oslopots.json\"\n",
    "predicted_list = read_parser_rel(parse_path)\n",
    "predicted_lists += [(\"oslopots\",predicted_list)]"
   ]
  },
  {
   "cell_type": "code",
   "execution_count": 48,
   "metadata": {},
   "outputs": [],
   "source": [
    "parse_path = \"data/submissions/randomized/nguyenlab.json\"\n",
    "predicted_list = read_parser_rel(parse_path)\n",
    "predicted_lists += [(\"nguyenlab\",predicted_list)]"
   ]
  },
  {
   "cell_type": "code",
   "execution_count": 81,
   "metadata": {},
   "outputs": [],
   "source": [
    "def align_parsers_to_gold(gold_rel,parsers):\n",
    "    total_alignment = {gold[\"ID\"]:{\"gold\":gold,\"parsers\":[]} for gold in gold_rel}\n",
    "    parsers_not_mappable = []\n",
    "    \n",
    "    for name,parser_relations in parsers:\n",
    "        arg1_alignment, arg2_alignment, relation_alignment = aligner.align_relations(\n",
    "            gold_rel, \n",
    "            parser_relations, \n",
    "            0.7)\n",
    "        i = 0\n",
    "        not_mappable = []\n",
    "        for gold_align,pred_align in relation_alignment:\n",
    "            if gold_align == None:\n",
    "                not_mappable += [pred_align]\n",
    "            else:\n",
    "                if pred_align != None:\n",
    "                    total_alignment[pred_align[\"ID\"]][\"parsers\"] += [pred_align]\n",
    "                else:\n",
    "                    i += 1\n",
    "                    total_alignment[gold_align[\"ID\"]][\"parsers\"] += [pred_align]\n",
    "        \n",
    "        print(i)\n",
    "        parsers_not_mappable += [not_mappable]\n",
    "     \n",
    "    return total_alignment,parsers_not_mappable\n",
    "        "
   ]
  },
  {
   "cell_type": "code",
   "execution_count": 82,
   "metadata": {},
   "outputs": [
    {
     "name": "stdout",
     "output_type": "stream",
     "text": [
      "255\n",
      "136\n"
     ]
    }
   ],
   "source": [
    "total,not_mappable = align_parsers_to_gold(gold_list,predicted_lists)"
   ]
  },
  {
   "cell_type": "code",
   "execution_count": 84,
   "metadata": {},
   "outputs": [
    {
     "data": {
      "text/plain": [
       "32"
      ]
     },
     "execution_count": 84,
     "metadata": {},
     "output_type": "execute_result"
    }
   ],
   "source": [
    "len([i for i in total.values() if None == i[\"parsers\"][0] and None == i[\"parsers\"][1]])"
   ]
  },
  {
   "cell_type": "code",
   "execution_count": 50,
   "metadata": {},
   "outputs": [
    {
     "data": {
      "text/plain": [
       "True"
      ]
     },
     "execution_count": 50,
     "metadata": {},
     "output_type": "execute_result"
    }
   ],
   "source": [
    "relation_alignment[0] == relation_alignment[0]"
   ]
  },
  {
   "cell_type": "code",
   "execution_count": null,
   "metadata": {},
   "outputs": [],
   "source": []
  }
 ],
 "metadata": {
  "kernelspec": {
   "display_name": "Python 2",
   "language": "python",
   "name": "python2"
  },
  "language_info": {
   "codemirror_mode": {
    "name": "ipython",
    "version": 2
   },
   "file_extension": ".py",
   "mimetype": "text/x-python",
   "name": "python",
   "nbconvert_exporter": "python",
   "pygments_lexer": "ipython2",
   "version": "2.7.14"
  }
 },
 "nbformat": 4,
 "nbformat_minor": 2
}
