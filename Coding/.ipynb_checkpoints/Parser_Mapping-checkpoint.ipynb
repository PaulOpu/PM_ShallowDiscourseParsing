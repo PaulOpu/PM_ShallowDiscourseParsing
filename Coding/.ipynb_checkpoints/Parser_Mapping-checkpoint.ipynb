{
 "cells": [
  {
   "cell_type": "markdown",
   "metadata": {},
   "source": [
    "# Parser Gold Mapping\n",
    "\n",
    "This notebook maps all relations to each other taking into account that there are some that where not predicted."
   ]
  },
  {
   "cell_type": "code",
   "execution_count": 150,
   "metadata": {},
   "outputs": [],
   "source": [
    "import json\n",
    "import numpy as np\n",
    "import conll16st.aligner as aligner\n",
    "import conll16st.partial_scorer as ps\n",
    "import read_write_files as rw"
   ]
  },
  {
   "cell_type": "code",
   "execution_count": 186,
   "metadata": {},
   "outputs": [],
   "source": [
    "def change_sets_to_list(alignments):\n",
    "    for gold,pred in alignments:\n",
    "        if gold != None:\n",
    "            gold[\"Arg1\"][\"TokenIndexSet\"] = list(gold[\"Arg1\"][\"TokenIndexSet\"])\n",
    "            gold[\"Arg2\"][\"TokenIndexSet\"] = list(gold[\"Arg2\"][\"TokenIndexSet\"])\n",
    "        if pred != None:\n",
    "            pred[\"Arg1\"][\"TokenIndexSet\"] = list(pred[\"Arg1\"][\"TokenIndexSet\"])\n",
    "            pred[\"Arg2\"][\"TokenIndexSet\"] = list(pred[\"Arg2\"][\"TokenIndexSet\"])\n",
    "        \n",
    "    return alignments"
   ]
  },
  {
   "cell_type": "code",
   "execution_count": 189,
   "metadata": {},
   "outputs": [],
   "source": [
    "def align_parsers_to_gold(gold_rel,parsers):\n",
    "    total_alignment = {gold[\"ID\"]:{\"gold\":gold,\"parsers\":[]} for gold in gold_rel}\n",
    "    parsers_not_mappable = []\n",
    "    \n",
    "    parser_names = [name for name,parser in parsers]\n",
    "    \n",
    "    for name,parser_relations in parsers:\n",
    "        arg1_alignment, arg2_alignment, relation_alignment = aligner.align_relations(\n",
    "            gold_rel, \n",
    "            parser_relations, \n",
    "            0.7)\n",
    "         \n",
    "        relation_alignment = change_sets_to_list(relation_alignment)\n",
    "        for gold_align,pred_align in relation_alignment:\n",
    "            if gold_align == None:\n",
    "                parsers_not_mappable += [pred_align]\n",
    "            else:\n",
    "                total_alignment[gold_align[\"ID\"]][\"parsers\"] += [pred_align]\n",
    "                total_alignment[gold_align[\"ID\"]][\"parser_names\"] = parser_names\n",
    "     \n",
    "    return total_alignment,parsers_not_mappable\n",
    "        "
   ]
  },
  {
   "cell_type": "markdown",
   "metadata": {},
   "source": [
    "# Training Set Mapping"
   ]
  },
  {
   "cell_type": "code",
   "execution_count": 194,
   "metadata": {},
   "outputs": [],
   "source": [
    "gold_path = \"data/gold_standard/blind/gold.json\"\n",
    "gold_list = rw.read_json(gold_path)"
   ]
  },
  {
   "cell_type": "code",
   "execution_count": 195,
   "metadata": {},
   "outputs": [],
   "source": [
    "parsers = [\n",
    "    (\"oslopots\",\"data/submissions/randomized/blind/oslopots.json\"),\n",
    "    (\"nguyenlab\",\"data/submissions/randomized/blind/nguyenlab.json\"),\n",
    "    (\"steven\",\"data/submissions/randomized/blind/steven.json\")\n",
    "]"
   ]
  },
  {
   "cell_type": "code",
   "execution_count": 196,
   "metadata": {},
   "outputs": [],
   "source": [
    "predicted_lists = []\n",
    "\n",
    "for name,path in parsers:\n",
    "    predicted_list = rw.read_json(path)\n",
    "    predicted_lists += [(name,predicted_list)]"
   ]
  },
  {
   "cell_type": "code",
   "execution_count": 197,
   "metadata": {},
   "outputs": [],
   "source": [
    "total_alignment,not_mappables = align_parsers_to_gold(\n",
    "    gold_rel=gold_list,\n",
    "    parsers=predicted_lists)"
   ]
  },
  {
   "cell_type": "code",
   "execution_count": 201,
   "metadata": {},
   "outputs": [],
   "source": [
    "save_json(total_alignment.values(),\"data/project_files/blind/total_alignment.json\")\n",
    "save_json(not_mappables,\"data/project_files/blind/not_mappable.json\")"
   ]
  },
  {
   "cell_type": "code",
   "execution_count": null,
   "metadata": {},
   "outputs": [],
   "source": []
  },
  {
   "cell_type": "markdown",
   "metadata": {},
   "source": [
    "# Test Set Mapping"
   ]
  },
  {
   "cell_type": "code",
   "execution_count": 207,
   "metadata": {},
   "outputs": [],
   "source": [
    "gold_path = \"data/gold_standard/dev/gold.json\"\n",
    "gold_list = rw.read_json(gold_path)"
   ]
  },
  {
   "cell_type": "code",
   "execution_count": 208,
   "metadata": {},
   "outputs": [],
   "source": [
    "parsers = [\n",
    "    (\"oslopots\",\"data/submissions/randomized/dev/oslopots.json\"),\n",
    "    (\"nguyenlab\",\"data/submissions/randomized/dev/nguyenlab.json\"),\n",
    "    (\"steven\",\"data/submissions/randomized/dev/steven.json\")\n",
    "]"
   ]
  },
  {
   "cell_type": "code",
   "execution_count": 209,
   "metadata": {},
   "outputs": [],
   "source": [
    "predicted_lists = []\n",
    "\n",
    "for name,path in parsers:\n",
    "    predicted_list = rw.read_json(path)\n",
    "    predicted_lists += [(name,predicted_list)]"
   ]
  },
  {
   "cell_type": "code",
   "execution_count": 210,
   "metadata": {},
   "outputs": [],
   "source": [
    "total_alignment,not_mappables = align_parsers_to_gold(\n",
    "    gold_rel=gold_list,\n",
    "    parsers=predicted_lists)"
   ]
  },
  {
   "cell_type": "code",
   "execution_count": 211,
   "metadata": {},
   "outputs": [],
   "source": [
    "save_json(total_alignment.values(),\"data/project_files/dev/total_alignment.json\")\n",
    "save_json(not_mappables,\"data/project_files/dev/not_mappable.json\")"
   ]
  },
  {
   "cell_type": "code",
   "execution_count": null,
   "metadata": {},
   "outputs": [],
   "source": []
  }
 ],
 "metadata": {
  "kernelspec": {
   "display_name": "Python 2",
   "language": "python",
   "name": "python2"
  },
  "language_info": {
   "codemirror_mode": {
    "name": "ipython",
    "version": 2
   },
   "file_extension": ".py",
   "mimetype": "text/x-python",
   "name": "python",
   "nbconvert_exporter": "python",
   "pygments_lexer": "ipython2",
   "version": "2.7.14"
  }
 },
 "nbformat": 4,
 "nbformat_minor": 2
}
