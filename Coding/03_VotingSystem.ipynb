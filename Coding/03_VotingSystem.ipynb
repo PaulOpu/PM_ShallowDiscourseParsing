{
 "cells": [
  {
   "cell_type": "markdown",
   "metadata": {},
   "source": [
    "# Voting Systems\n",
    "\n",
    "In this notebook we compare different voting systems to get the final prediction. Our models were trained on the blind test data, that is not biased by the training process and use the dev-test data to test our model.\n",
    "\n",
    "## Load Test Data and Models"
   ]
  },
  {
   "cell_type": "code",
   "execution_count": 24,
   "metadata": {},
   "outputs": [],
   "source": [
    "from read_write_files import read_json,save_json\n",
    "from helper_functions import get_sense_lists,align_parsers_to_gold\n",
    "import numpy as np"
   ]
  },
  {
   "cell_type": "code",
   "execution_count": 25,
   "metadata": {},
   "outputs": [],
   "source": [
    "sense_model_path = \"data/project_files/blind/sense_model.json\"\n",
    "test_data_path = \"data/gold_standard/dev/gold.json\""
   ]
  },
  {
   "cell_type": "code",
   "execution_count": 26,
   "metadata": {},
   "outputs": [],
   "source": [
    "parsers = [\n",
    "    (\"oslopots\",\"data/submissions/randomized/dev/oslopots.json\"),\n",
    "    (\"nguyenlab\",\"data/submissions/randomized/dev/nguyenlab.json\"),\n",
    "    (\"steven\",\"data/submissions/randomized/dev/steven.json\"),\n",
    "]"
   ]
  },
  {
   "cell_type": "code",
   "execution_count": 28,
   "metadata": {},
   "outputs": [],
   "source": [
    "parser_predictions = []\n",
    "\n",
    "for name,path in parsers:\n",
    "    parser_predictions += [(name,read_json(path))]"
   ]
  },
  {
   "cell_type": "code",
   "execution_count": 29,
   "metadata": {},
   "outputs": [],
   "source": [
    "total_alignment,not_mappable = align_parsers_to_gold(test_data,parser_predictions)"
   ]
  },
  {
   "cell_type": "code",
   "execution_count": 40,
   "metadata": {},
   "outputs": [],
   "source": [
    "gold_senses,parser_senses,parser_names = get_sense_lists(total_alignment.values())"
   ]
  },
  {
   "cell_type": "markdown",
   "metadata": {},
   "source": [
    "## Voting Systems"
   ]
  },
  {
   "cell_type": "code",
   "execution_count": 27,
   "metadata": {},
   "outputs": [],
   "source": [
    "sense_model = read_json(sense_model_path)\n",
    "test_data = read_json(test_data_path)"
   ]
  },
  {
   "cell_type": "code",
   "execution_count": 82,
   "metadata": {},
   "outputs": [],
   "source": [
    "def voting(parser_preds,parser_names,model,voting_algorithm):\n",
    "    new_senses = []\n",
    "    \n",
    "    parser_pred_zip = zip(*parser_preds)\n",
    "    for predictions in parser_pred_zip:\n",
    "        result = voting_algorithm(predictions,model)\n",
    "        new_senses += [result]\n",
    "        \n",
    "    return new_senses"
   ]
  },
  {
   "cell_type": "code",
   "execution_count": 87,
   "metadata": {},
   "outputs": [],
   "source": [
    "def best_wins_voting(predictions,model):\n",
    "    probs = []\n",
    "    for ind,pred in enumerate(predictions):\n",
    "        sense_dic = model[ind][\"sense_pred\"]\n",
    "        if (pred == \"None\") or not (sense_dic.has_key(pred)):\n",
    "            probs += [0]\n",
    "        else:\n",
    "            probs += [model[ind][\"sense_pred\"][pred][\"f1\"]]\n",
    "    return np.argmax(probs)"
   ]
  },
  {
   "cell_type": "code",
   "execution_count": 88,
   "metadata": {},
   "outputs": [],
   "source": [
    "best_parser_indexes = voting(parser_senses,parser_names,sense_model,best_wins_voting)"
   ]
  },
  {
   "cell_type": "markdown",
   "metadata": {},
   "source": [
    "## Exchange new Attributes in Relation File"
   ]
  },
  {
   "cell_type": "code",
   "execution_count": 97,
   "metadata": {},
   "outputs": [],
   "source": [
    "def exchange_attr_values(alignment_list,best_relation_indexes):\n",
    "    new_relations = []\n",
    "    \n",
    "    for alignments in alignment_list.values():\n",
    "        print(alignments)\n",
    "        new_rel = alignments[\"parsers\"][best_relation_indexes]\n",
    "        new_relations.append(rel)\n",
    "        \n",
    "    return new_relations"
   ]
  },
  {
   "cell_type": "code",
   "execution_count": 98,
   "metadata": {},
   "outputs": [
    {
     "name": "stdout",
     "output_type": "stream",
     "text": [
      "{'parsers': [{u'DocID': u'wsj_2200', u'Arg1': {u'TokenList': [37, 38, 52, 53, 54, 55, 56, 57, 58, 59, 60, 61, 62, 63, 64, 65, 66, 67, 68, 69, 70, 71, 72, 73, 74, 75, 76, 77, 78, 79, 80], 'TokenIndexSet': [37, 38, 52, 53, 54, 55, 56, 57, 58, 59, 60, 61, 62, 63, 64, 65, 66, 67, 68, 69, 70, 71, 72, 73, 74, 75, 76, 77, 78, 79, 80]}, u'Arg2': {u'TokenList': [85, 86, 87, 88, 89, 90, 91, 92, 93, 94, 95, 96, 97, 98, 99, 100], 'TokenIndexSet': [96, 97, 98, 99, 100, 85, 86, 87, 88, 89, 90, 91, 92, 93, 94, 95]}, u'Parser': u'oslopots', u'Connective': {u'RawText': u'', u'TokenList': []}, u'Sense': [u'Expansion.Conjunction'], u'Type': u'Implicit', u'ID': 35708, u'Change': u'Type'}, {u'DocID': u'wsj_2200', u'Arg1': {u'CharacterSpanList': [[253, 261], [323, 498]], u'RawText': u\"The bill would prevent the Resolution Trust Corp. from raising temporary working capital by having an RTC-owned bank or thrift issue debt that wouldn't be counted on the federal budget\", u'TokenList': [37, 38, 52, 53, 54, 55, 56, 57, 58, 59, 60, 61, 62, 63, 64, 65, 66, 67, 68, 69, 70, 71, 72, 73, 74, 75, 76, 77, 78, 79, 80], 'TokenIndexSet': [37, 38, 52, 53, 54, 55, 56, 57, 58, 59, 60, 61, 62, 63, 64, 65, 66, 67, 68, 69, 70, 71, 72, 73, 74, 75, 76, 77, 78, 79, 80]}, u'Arg2': {u'CharacterSpanList': [[517, 629]], u'RawText': u'to restrict the RTC to Treasury borrowings only, unless the agency receives specific congressional authorization', u'TokenList': [85, 86, 87, 88, 89, 90, 91, 92, 93, 94, 95, 96, 97, 98, 99, 100], 'TokenIndexSet': [96, 97, 98, 99, 100, 85, 86, 87, 88, 89, 90, 91, 92, 93, 94, 95]}, u'Parser': u'nguyenlab', u'Connective': {u'CharacterSpanList': [], u'RawText': u'', u'TokenList': []}, u'Sense': [u'Comparison.Contrast'], u'Type': u'Implicit', u'ID': 35708, u'Change': u'None'}, {u'DocID': u'wsj_2200', u'Arg1': {u'CharacterSpanList': [[253, 261], [323, 498]], u'RawText': u\"The bill would prevent the Resolution Trust Corp. from raising temporary working capital by having an RTC-owned bank or thrift issue debt that wouldn't be counted on the federal budget\", u'TokenList': [37, 38, 52, 53, 54, 55, 56, 57, 58, 59, 60, 61, 62, 63, 64, 65, 66, 67, 68, 69, 70, 71, 72, 73, 74, 75, 76, 77, 78, 79, 80], 'TokenIndexSet': [37, 38, 52, 53, 54, 55, 56, 57, 58, 59, 60, 61, 62, 63, 64, 65, 66, 67, 68, 69, 70, 71, 72, 73, 74, 75, 76, 77, 78, 79, 80]}, u'Arg2': {u'CharacterSpanList': [[517, 629]], u'RawText': u'to restrict the RTC to Treasury borrowings only, unless the agency receives specific congressional authorization', u'TokenList': [85, 86, 87, 88, 89, 90, 91, 92, 93, 94, 95, 96, 97, 98, 99, 100], 'TokenIndexSet': [96, 97, 98, 99, 100, 85, 86, 87, 88, 89, 90, 91, 92, 93, 94, 95]}, u'Parser': u'steven', u'Connective': {u'CharacterSpanList': [], u'RawText': u'', u'TokenList': []}, u'Sense': [u'EntRel'], u'Type': u'Implicit', u'ID': 35708, u'Change': u'None'}], 'parser_names': ['oslopots', 'nguyenlab', 'steven'], 'gold': {u'DocID': u'wsj_2200', u'Arg1': {u'CharacterSpanList': [[253, 261], [323, 498]], u'RawText': u\"The bill would prevent the Resolution Trust Corp. from raising temporary working capital by having an RTC-owned bank or thrift issue debt that wouldn't be counted on the federal budget\", u'TokenList': [[253, 256, 37, 1, 0], [257, 261, 38, 1, 1], [323, 328, 52, 1, 15], [329, 336, 53, 1, 16], [337, 340, 54, 1, 17], [341, 351, 55, 1, 18], [352, 357, 56, 1, 19], [358, 363, 57, 1, 20], [364, 368, 58, 1, 21], [369, 376, 59, 1, 22], [377, 386, 60, 1, 23], [387, 394, 61, 1, 24], [395, 402, 62, 1, 25], [403, 405, 63, 1, 26], [406, 412, 64, 1, 27], [413, 415, 65, 1, 28], [416, 425, 66, 1, 29], [426, 430, 67, 1, 30], [431, 433, 68, 1, 31], [434, 440, 69, 1, 32], [441, 446, 70, 1, 33], [447, 451, 71, 1, 34], [452, 456, 72, 1, 35], [457, 462, 73, 1, 36], [462, 465, 74, 1, 37], [466, 468, 75, 1, 38], [469, 476, 76, 1, 39], [477, 479, 77, 1, 40], [480, 483, 78, 1, 41], [484, 491, 79, 1, 42], [492, 498, 80, 1, 43]], 'TokenIndexSet': [37, 38, 52, 53, 54, 55, 56, 57, 58, 59, 60, 61, 62, 63, 64, 65, 66, 67, 68, 69, 70, 71, 72, 73, 74, 75, 76, 77, 78, 79, 80]}, u'Arg2': {u'CharacterSpanList': [[517, 629]], u'RawText': u'to restrict the RTC to Treasury borrowings only, unless the agency receives specific congressional authorization', u'TokenList': [[517, 519, 85, 2, 3], [520, 528, 86, 2, 4], [529, 532, 87, 2, 5], [533, 536, 88, 2, 6], [537, 539, 89, 2, 7], [540, 548, 90, 2, 8], [549, 559, 91, 2, 9], [560, 564, 92, 2, 10], [564, 565, 93, 2, 11], [566, 572, 94, 2, 12], [573, 576, 95, 2, 13], [577, 583, 96, 2, 14], [584, 592, 97, 2, 15], [593, 601, 98, 2, 16], [602, 615, 99, 2, 17], [616, 629, 100, 2, 18]], 'TokenIndexSet': [96, 97, 98, 99, 100, 85, 86, 87, 88, 89, 90, 91, 92, 93, 94, 95]}, u'Parser': u'Gold', u'Connective': {u'CharacterSpanList': [], u'RawText': u'specifically', u'TokenList': []}, u'Sense': [u'Expansion.Restatement'], u'Type': u'Implicit', u'ID': 35708, u'Change': u'None'}}\n"
     ]
    },
    {
     "ename": "TypeError",
     "evalue": "list indices must be integers, not list",
     "output_type": "error",
     "traceback": [
      "\u001b[0;31m---------------------------------------------------------------------------\u001b[0m",
      "\u001b[0;31mTypeError\u001b[0m                                 Traceback (most recent call last)",
      "\u001b[0;32m<ipython-input-98-7fd491bc2193>\u001b[0m in \u001b[0;36m<module>\u001b[0;34m()\u001b[0m\n\u001b[0;32m----> 1\u001b[0;31m \u001b[0mnew_relations\u001b[0m \u001b[0;34m=\u001b[0m \u001b[0mexchange_attr_values\u001b[0m\u001b[0;34m(\u001b[0m\u001b[0mtotal_alignment\u001b[0m\u001b[0;34m,\u001b[0m\u001b[0mbest_parser_indexes\u001b[0m\u001b[0;34m)\u001b[0m\u001b[0;34m\u001b[0m\u001b[0m\n\u001b[0m",
      "\u001b[0;32m<ipython-input-97-74d117d3320c>\u001b[0m in \u001b[0;36mexchange_attr_values\u001b[0;34m(alignment_list, best_relation_indexes)\u001b[0m\n\u001b[1;32m      4\u001b[0m     \u001b[0;32mfor\u001b[0m \u001b[0malignments\u001b[0m \u001b[0;32min\u001b[0m \u001b[0malignment_list\u001b[0m\u001b[0;34m.\u001b[0m\u001b[0mvalues\u001b[0m\u001b[0;34m(\u001b[0m\u001b[0;34m)\u001b[0m\u001b[0;34m:\u001b[0m\u001b[0;34m\u001b[0m\u001b[0m\n\u001b[1;32m      5\u001b[0m         \u001b[0;32mprint\u001b[0m\u001b[0;34m(\u001b[0m\u001b[0malignments\u001b[0m\u001b[0;34m)\u001b[0m\u001b[0;34m\u001b[0m\u001b[0m\n\u001b[0;32m----> 6\u001b[0;31m         \u001b[0mnew_rel\u001b[0m \u001b[0;34m=\u001b[0m \u001b[0malignments\u001b[0m\u001b[0;34m[\u001b[0m\u001b[0;34m\"parsers\"\u001b[0m\u001b[0;34m]\u001b[0m\u001b[0;34m[\u001b[0m\u001b[0mbest_relation_indexes\u001b[0m\u001b[0;34m]\u001b[0m\u001b[0;34m\u001b[0m\u001b[0m\n\u001b[0m\u001b[1;32m      7\u001b[0m         \u001b[0mnew_relations\u001b[0m\u001b[0;34m.\u001b[0m\u001b[0mappend\u001b[0m\u001b[0;34m(\u001b[0m\u001b[0mrel\u001b[0m\u001b[0;34m)\u001b[0m\u001b[0;34m\u001b[0m\u001b[0m\n\u001b[1;32m      8\u001b[0m \u001b[0;34m\u001b[0m\u001b[0m\n",
      "\u001b[0;31mTypeError\u001b[0m: list indices must be integers, not list"
     ]
    }
   ],
   "source": [
    "new_relations = exchange_attr_values(total_alignment,best_parser_indexes)"
   ]
  },
  {
   "cell_type": "code",
   "execution_count": 94,
   "metadata": {},
   "outputs": [
    {
     "data": {
      "text/plain": [
       "{u'Arg1': {u'CharacterSpanList': [[253, 261], [323, 498]],\n",
       "  u'RawText': u\"The bill would prevent the Resolution Trust Corp. from raising temporary working capital by having an RTC-owned bank or thrift issue debt that wouldn't be counted on the federal budget\",\n",
       "  'TokenIndexSet': [37,\n",
       "   38,\n",
       "   52,\n",
       "   53,\n",
       "   54,\n",
       "   55,\n",
       "   56,\n",
       "   57,\n",
       "   58,\n",
       "   59,\n",
       "   60,\n",
       "   61,\n",
       "   62,\n",
       "   63,\n",
       "   64,\n",
       "   65,\n",
       "   66,\n",
       "   67,\n",
       "   68,\n",
       "   69,\n",
       "   70,\n",
       "   71,\n",
       "   72,\n",
       "   73,\n",
       "   74,\n",
       "   75,\n",
       "   76,\n",
       "   77,\n",
       "   78,\n",
       "   79,\n",
       "   80],\n",
       "  u'TokenList': [37,\n",
       "   38,\n",
       "   52,\n",
       "   53,\n",
       "   54,\n",
       "   55,\n",
       "   56,\n",
       "   57,\n",
       "   58,\n",
       "   59,\n",
       "   60,\n",
       "   61,\n",
       "   62,\n",
       "   63,\n",
       "   64,\n",
       "   65,\n",
       "   66,\n",
       "   67,\n",
       "   68,\n",
       "   69,\n",
       "   70,\n",
       "   71,\n",
       "   72,\n",
       "   73,\n",
       "   74,\n",
       "   75,\n",
       "   76,\n",
       "   77,\n",
       "   78,\n",
       "   79,\n",
       "   80]},\n",
       " u'Arg2': {u'CharacterSpanList': [[517, 629]],\n",
       "  u'RawText': u'to restrict the RTC to Treasury borrowings only, unless the agency receives specific congressional authorization',\n",
       "  'TokenIndexSet': [96,\n",
       "   97,\n",
       "   98,\n",
       "   99,\n",
       "   100,\n",
       "   85,\n",
       "   86,\n",
       "   87,\n",
       "   88,\n",
       "   89,\n",
       "   90,\n",
       "   91,\n",
       "   92,\n",
       "   93,\n",
       "   94,\n",
       "   95],\n",
       "  u'TokenList': [85,\n",
       "   86,\n",
       "   87,\n",
       "   88,\n",
       "   89,\n",
       "   90,\n",
       "   91,\n",
       "   92,\n",
       "   93,\n",
       "   94,\n",
       "   95,\n",
       "   96,\n",
       "   97,\n",
       "   98,\n",
       "   99,\n",
       "   100]},\n",
       " u'Change': u'None',\n",
       " u'Connective': {u'CharacterSpanList': [], u'RawText': u'', u'TokenList': []},\n",
       " u'DocID': u'wsj_2200',\n",
       " u'ID': 35708,\n",
       " u'Parser': u'nguyenlab',\n",
       " u'Sense': [u'Comparison.Contrast'],\n",
       " u'Type': u'Implicit'}"
      ]
     },
     "execution_count": 94,
     "metadata": {},
     "output_type": "execute_result"
    }
   ],
   "source": [
    "total_alignment.values()[0][\"parsers\"][1]"
   ]
  },
  {
   "cell_type": "code",
   "execution_count": null,
   "metadata": {},
   "outputs": [],
   "source": []
  }
 ],
 "metadata": {
  "kernelspec": {
   "display_name": "Python 2",
   "language": "python",
   "name": "python2"
  },
  "language_info": {
   "codemirror_mode": {
    "name": "ipython",
    "version": 2
   },
   "file_extension": ".py",
   "mimetype": "text/x-python",
   "name": "python",
   "nbconvert_exporter": "python",
   "pygments_lexer": "ipython2",
   "version": "2.7.14"
  }
 },
 "nbformat": 4,
 "nbformat_minor": 2
}
